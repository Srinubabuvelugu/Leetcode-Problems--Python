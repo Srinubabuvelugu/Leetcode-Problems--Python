{
 "cells": [
  {
   "cell_type": "raw",
   "id": "b658c7ab-5ac3-41cf-a37d-78143684b3ee",
   "metadata": {},
   "source": [
    "Given an array nums of size n, return the majority element.\n",
    "\n",
    "The majority element is the element that appears more than ⌊n / 2⌋ times. You may assume that the majority element always exists in the array.\n",
    "\n",
    " \n",
    "\n",
    "Example 1:\n",
    "\n",
    "Input: nums = [3,2,3]\n",
    "Output: 3\n",
    "Example 2:\n",
    "\n",
    "Input: nums = [2,2,1,1,1,2,2]\n",
    "Output: 2"
   ]
  },
  {
   "cell_type": "code",
   "execution_count": 4,
   "id": "32df4b77-8f9b-46b4-9dc8-fea66748e399",
   "metadata": {},
   "outputs": [
    {
     "data": {
      "text/plain": [
       "2"
      ]
     },
     "execution_count": 4,
     "metadata": {},
     "output_type": "execute_result"
    }
   ],
   "source": [
    "## approach - Voting Algorithm\n",
    "# Timp Complexity - O(N)\n",
    "# Extra Space Complexity - O(1)\n",
    "def majority_element(nums):\n",
    "    count = 0\n",
    "    ele = None\n",
    "    for i in range(len(nums)):\n",
    "        if count == 0:\n",
    "            ele = nums[i]\n",
    "            count +=1\n",
    "        elif ele == nums[i]:\n",
    "            count += 1\n",
    "        else:\n",
    "            count -= 1\n",
    "    return ele\n",
    "\n",
    "nums = [2,2,1,1,1,2,2]\n",
    "majority_element(nums)"
   ]
  },
  {
   "cell_type": "code",
   "execution_count": null,
   "id": "53246991-3914-4f32-9311-1744d489c50f",
   "metadata": {},
   "outputs": [],
   "source": []
  }
 ],
 "metadata": {
  "kernelspec": {
   "display_name": "Python 3 (ipykernel)",
   "language": "python",
   "name": "python3"
  },
  "language_info": {
   "codemirror_mode": {
    "name": "ipython",
    "version": 3
   },
   "file_extension": ".py",
   "mimetype": "text/x-python",
   "name": "python",
   "nbconvert_exporter": "python",
   "pygments_lexer": "ipython3",
   "version": "3.11.5"
  }
 },
 "nbformat": 4,
 "nbformat_minor": 5
}
